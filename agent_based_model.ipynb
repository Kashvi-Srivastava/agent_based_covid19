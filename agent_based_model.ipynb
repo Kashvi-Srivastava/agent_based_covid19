{
  "nbformat": 4,
  "nbformat_minor": 0,
  "metadata": {
    "colab": {
      "name": "ProjectFile_Kashvi.ipynb",
      "provenance": [],
      "collapsed_sections": []
    },
    "kernelspec": {
      "name": "python3",
      "display_name": "Python 3"
    },
    "language_info": {
      "name": "python"
    }
  },
  "cells": [
    {
      "cell_type": "code",
      "execution_count": null,
      "metadata": {
        "id": "38BSwWZLZ2P9"
      },
      "outputs": [],
      "source": [
        "## import packages\n",
        "from statistics import median\n",
        "import copy as cp\n",
        "import numpy.matlib as npm\n",
        "import seaborn as sns\n",
        "import numpy as np\n",
        "import random\n",
        "import matplotlib.pyplot as plt\n",
        "import matplotlib\n",
        "from IPython import display\n",
        "import time\n",
        "\n",
        "%matplotlib inline"
      ]
    },
    {
      "cell_type": "markdown",
      "source": [
        "Set up model parameters"
      ],
      "metadata": {
        "id": "O10cIyKOgrLP"
      }
    },
    {
      "cell_type": "code",
      "source": [
        "# ##Sets of Initial values 1 and 2\n",
        "# #Wave 1 \n",
        "# totalpopulation = 500  #10000 per square km population density for New Delhi        \n",
        "#                         #500 people in 200m*200m environment \n",
        "\n",
        "# s_init =  495 #initial susceptible population\n",
        "# ms = 0.1 #magnitude of movement of susceptibe population ~ 20 m \n",
        "# # 0 for complete lockdown \n",
        "\n",
        "# i_init =  5 #initial infected population\n",
        "# mi = 0.1 #magnitude of movement of infected population ~ 20 m\n",
        "# #0 for complete lockdown & quarantined \n",
        "\n",
        "# r_init = 0 #initial recovered population\n",
        "\n",
        "# d_init = 0 #initial dead population\n",
        "\n",
        "# rs = 0.01 #0.0025 #recovered to susceptible rate #1 out of 100 people go back to being susceptible\n",
        "\n",
        "# #ifr = 0.0013 #infection fatality rate #adopted from research\n",
        "# ifr = 0.0046 #estimated infection fatality rate from research\n",
        "\n",
        "# #cd = 0.02 #0.01 #contagion distance  #0.02 units is around 4 m st 3.6 m ~ 12 ft\n",
        "# cd = 0.01 #0.01 units is around 2 m ~ 6 ft (less than 6 ft social distancing) \n",
        "# #contagion distance for scenario of masking and social distancing \n",
        "\n",
        "# cdsq = cd**2 #contagion distance squared \n",
        "\n",
        "# #cp = 0.9 #contagion probability - infection rate \n",
        "# cp = 0.5 #contagion probability for masking and social distancing\n",
        "\n",
        "# recovering_time = 20 # 10 days it takes for an infected agent to recover \n",
        "# #2 update steps can be taken as half a day #coming across 2 different sets of people\n",
        "# #assuming any person moves once to work and once back home\n",
        "\n",
        "# incubation_time = 6 #3 days it takes for an infected agent to show symptoms to get quarantined"
      ],
      "metadata": {
        "id": "sMGBPGv6gqSB"
      },
      "execution_count": null,
      "outputs": []
    },
    {
      "cell_type": "code",
      "source": [
        "#Set of initial values 3\n",
        "#wave 2 \n",
        "\n",
        "totalpopulation = 500  #10000 per square km population density for New Delhi        \n",
        "                        #500 people in 200m*200m environment \n",
        "\n",
        "s_init =  490 #initial susceptible population\n",
        "ms = 0.05 #magnitude of movement of susceptibe population ~ 10 m \n",
        "# 0 for complete lockdown \n",
        "\n",
        "i_init =  10 #initial infected population\n",
        "mi = 0.05 #magnitude of movement of infected population ~ 10 m\n",
        "#0 for complete lockdown & quarantined \n",
        "\n",
        "r_init = 0 #initial recovered population\n",
        "\n",
        "d_init = 0 #initial dead population\n",
        "\n",
        "rs = 0.005 #0.0025 #recovered to susceptible rate #1 out of 200 people go back to being susceptible\n",
        "\n",
        "ifr = 0.0018 #infection fatality rate #adopted from research\n",
        "#ifr = 0.0046 #estimated infection fatality rate from research\n",
        "\n",
        "#cd = 0.02 #0.01 #contagion distance  #0.02 units is around 4 m st 3.6 m ~ 12 ft\n",
        "cd = 0.01 #0.01 units is around 2 m ~ 6 ft (less than 6 ft social distancing) \n",
        "#contagion distance for scenario of masking and social distancing \n",
        "\n",
        "cdsq = cd**2 #contagion distance squared \n",
        "\n",
        "#cp = 0.6 #let us say it was spreading slower because some people were vaccinated\n",
        "#cp = 0.9 #contagion probability - infection rate \n",
        "cp = 0.3 #contagion probability for masking and social distancing\n",
        "\n",
        "recovering_time = 20 # 10 days it takes for an infected agent to recover \n",
        "#2 update steps can be taken as half a day #coming across 2 different sets of people\n",
        "#assuming any person moves once to work and once back home\n",
        "\n",
        "incubation_time = 6 #3 days it takes for an infected agent to show symptoms to get quarantined"
      ],
      "metadata": {
        "id": "gOqTAI3Jfb83"
      },
      "execution_count": null,
      "outputs": []
    },
    {
      "cell_type": "markdown",
      "source": [
        "Model functions"
      ],
      "metadata": {
        "id": "9jREoD6a0pVr"
      }
    },
    {
      "cell_type": "code",
      "source": [
        "class agent:\n",
        "    pass\n",
        "\n",
        "def initialize():\n",
        "    global agents, sdata, idata, rdata, ddata\n",
        "    agents = []\n",
        "    sdata = [] #to track susceptible population\n",
        "    idata = [] #to track infected population\n",
        "    rdata = [] #to track recovered population\n",
        "    ddata = [] #to track dead population\n",
        "    for i in range(s_init + i_init):\n",
        "        ag = agent()\n",
        "        ag.type = 's' if i < s_init else 'i'\n",
        "        ag.infected_time = 0\n",
        "        ag.isquarantined = 0\n",
        "        ag.x = random.random()\n",
        "        ag.y = random.random()\n",
        "        agents.append(ag)\n",
        "\n",
        "def observe():\n",
        "    global agents, sdata, idata, rdata, ddata\n",
        "\n",
        "    # plt.subplot(2, 1, 1)\n",
        "    # plt.cla()\n",
        "    # susceptible = [ag for ag in agents if ag.type == 's']\n",
        "    # if len(susceptible) > 0:\n",
        "    #     x = [ag.x for ag in susceptible]\n",
        "    #     y = [ag.y for ag in susceptible]\n",
        "    #     plt.plot(x, y, 'b.')\n",
        "    # infected = [ag for ag in agents if ag.type == 'i']\n",
        "    # if len(infected) > 0:\n",
        "    #     x = [ag.x for ag in infected]\n",
        "    #     y = [ag.y for ag in infected]\n",
        "    #     plt.plot(x, y, 'r.')\n",
        "    # recovered = [ag for ag in agents if ag.type == 'r']\n",
        "    # if len(recovered) > 0:\n",
        "    #     x = [ag.x for ag in recovered]\n",
        "    #     y = [ag.y for ag in recovered]\n",
        "    #     plt.plot(x, y, 'g.')\n",
        "    # dead = [ag for ag in agents if ag.type == 'd']\n",
        "    # if len(dead) > 0:\n",
        "    #     x = [ag.x for ag in dead]\n",
        "    #     y = [ag.y for ag in dead]\n",
        "    #     plt.plot(x, y, 'k.')\n",
        "    # plt.axis('image')\n",
        "    # plt.axis([0, 1, 0, 1])\n",
        "\n",
        "    # plt.subplot(2, 1, 2)\n",
        "    plt.cla()\n",
        "    plt.plot(np.array(sdata)/totalpopulation, 'b', label = 'susceptible')\n",
        "    plt.plot(np.array(idata)/totalpopulation, 'r', label = 'infected')\n",
        "    plt.plot(np.array(rdata)/totalpopulation, 'g', label = 'recovered')\n",
        "    plt.plot(np.array(ddata)/totalpopulation, 'k', label = 'dead')\n",
        "    plt.xlabel('Number of timesteps')\n",
        "    plt.ylabel('Proportion of Population')\n",
        "    plt.legend(bbox_to_anchor=(1.02,1), loc=\"upper left\")\n",
        "\n",
        "def update():\n",
        "    global agents, sdata, idata, rdata, ddata\n",
        "    t = 0.\n",
        "    while t < 1. and len(agents) > 0:\n",
        "        t += 1. / len(agents)\n",
        "        update_one_agent()\n",
        "\n",
        "    sdata.append(sum([1 for x in agents if x.type == 's']))\n",
        "    idata.append(sum([1 for x in agents if x.type == 'i']))\n",
        "    rdata.append(sum([1 for x in agents if x.type == 'r']))\n",
        "    ddata.append(sum([1 for x in agents if x.type == 'd']))\n",
        "\n",
        "def update_one_agent():\n",
        "    global agents\n",
        "    if agents == []:\n",
        "        return\n",
        "    #if idata == []:\n",
        "     # return\n",
        "    ag = random.choice(agents)\n",
        "\n",
        "    if ag.type =='d': #dead agents don't move\n",
        "      return \n",
        "\n",
        "    #simulating random movement\n",
        "    m = ms if (ag.type == 's' or ag.type == 'r') else mi\n",
        "\n",
        "    #simulating random movement for partial lockdown\n",
        "    # if (idata[-1]/totalpopulation) > 0.1:\n",
        "    #   m = 0\n",
        "    # else: \n",
        "    #   m = ms if (ag.type == 's' or ag.type == 'r') else mi\n",
        "\n",
        "    #simulating random movement for scenario of quarantine\n",
        "    # if (ag.type == 's' or ag.type =='r'):\n",
        "    #   m = ms\n",
        "    # else: \n",
        "    #   if ag.infected_time < incubation_time: #infected agent is asymptomatic\n",
        "    #     m = mi\n",
        "    #   else:\n",
        "    #     m = 0 #infected agent quarantines as soon as symptoms appear\n",
        "\n",
        "    ag.x += random.uniform(-m, m)\n",
        "    ag.y += random.uniform(-m, m)\n",
        "    ag.x = 1 if ag.x > 1 else 0 if ag.x < 0 else ag.x\n",
        "    ag.y = 1 if ag.y > 1 else 0 if ag.y < 0 else ag.y\n",
        "\n",
        "    # detecting collision and simulating transmission of disease\n",
        "    neighbors = [nb for nb in agents if nb.type != ag.type #neighbors within contagion distance\n",
        "                 and (ag.x - nb.x)**2 + (ag.y - nb.y)**2 < cdsq] \n",
        "                \n",
        "    if ag.type == 's':\n",
        "      if len(neighbors) > 0: #if there are agents nearby\n",
        "        for nb in neighbors:\n",
        "          if (nb.type == 'i'): #and nb.isquarantined == 0): #only gets infected if infected agent is not quarantined\n",
        "            if random.random() < cp: #contagion probability\n",
        "              ag.type = 'i' #susceptible to infected \n",
        "              break #suceptible can get infected by just one infected neighbor\n",
        "\n",
        "    if ag.type == 'i':\n",
        "      ag.infected_time = ag.infected_time + 1 #adding to the time for infection\n",
        "      #if ag.infected_time > incubation_time:\n",
        "        # ag.isquarantined = 1 # change status to quarantined and random movement is 0 \n",
        "      if random.random() < ifr:\n",
        "        ag.type = 'd' #infected to dead\n",
        "        return\n",
        "      if ag.infected_time > recovering_time:\n",
        "        ag.infected_time = 0\n",
        "        ag.type = 'r' #infected to recovered \n",
        "\n",
        "    if ag.type == 'r':\n",
        "      if random.random() < rs:\n",
        "        ag.type = 's' #recovered to susceptible again "
      ],
      "metadata": {
        "id": "MI1rr4v_0q5z"
      },
      "execution_count": null,
      "outputs": []
    },
    {
      "cell_type": "markdown",
      "source": [
        "Test running the model"
      ],
      "metadata": {
        "id": "0iYmIpH35W_I"
      }
    },
    {
      "cell_type": "code",
      "source": [
        "initialize()\n",
        "update()\n",
        "observe()"
      ],
      "metadata": {
        "colab": {
          "base_uri": "https://localhost:8080/",
          "height": 279
        },
        "id": "YgVC3k1R2WAl",
        "outputId": "d5bb3d63-0284-46e2-b6de-a73765c52e77"
      },
      "execution_count": null,
      "outputs": [
        {
          "output_type": "display_data",
          "data": {
            "text/plain": [
              "<Figure size 432x288 with 1 Axes>"
            ],
            "image/png": "[encoded data removed]"
          },
          "metadata": {
            "needs_background": "light"
          }
        }
      ]
    },
    {
      "cell_type": "code",
      "source": [
        ""
      ],
      "metadata": {
        "id": "-c5N-q7GhFQf"
      },
      "execution_count": null,
      "outputs": []
    },
    {
      "cell_type": "code",
      "source": [
        "# Run the model live inline for a specified number of steps\n",
        "numruns = 30\n",
        "timesteps = 120 #denotes 60 days \n",
        "sdataarray = np.zeros([timesteps,numruns])\n",
        "idataarray = np.zeros([timesteps,numruns])\n",
        "rdataarray = np.zeros([timesteps,numruns])\n",
        "ddataarray = np.zeros([timesteps,numruns])\n",
        "for s in range(0,numruns):\n",
        "  initialize()\n",
        "  for i in range(0,timesteps):\n",
        "    #observe()\n",
        "    update()\n",
        "  sdataarray[:,s] = np.array(sdata)/totalpopulation\n",
        "  idataarray[:,s] = np.array(idata)/totalpopulation\n",
        "  rdataarray[:,s] = np.array(rdata)/totalpopulation\n",
        "  ddataarray[:,s] = np.array(ddata)/totalpopulation\n",
        "    #display.clear_output(wait=True)\n",
        "    #display.display(plt.gcf())\n",
        "    #time.sleep(0.5)\n",
        "    #if i%10==0: plt.show() #show the plot every 10 steps\n"
      ],
      "metadata": {
        "id": "pTcGaQ2U6cHN"
      },
      "execution_count": null,
      "outputs": []
    },
    {
      "cell_type": "code",
      "source": [
        "## Visualizing the mean and variance of different simulations \n",
        "fig, ax = plt.subplots(1)\n",
        "ax.fill_between(range(timesteps),np.mean(sdataarray,axis=1)+np.std(sdataarray,axis=1),np.mean(sdataarray,axis=1)-np.std(sdataarray,axis=1),facecolor = 'b',alpha = 0.5)\n",
        "ax.fill_between(range(timesteps),np.mean(idataarray,axis=1)+np.std(idataarray,axis=1),np.mean(idataarray,axis=1)-np.std(idataarray,axis=1),facecolor = 'r',alpha = 0.5)\n",
        "ax.fill_between(range(timesteps),np.mean(rdataarray,axis=1)+np.std(rdataarray,axis=1),np.mean(rdataarray,axis=1)-np.std(rdataarray,axis=1),facecolor = 'g',alpha = 0.5)\n",
        "ax.fill_between(range(timesteps),np.mean(ddataarray,axis=1)+np.std(ddataarray,axis=1),np.mean(ddataarray,axis=1)-np.std(ddataarray,axis=1),facecolor = 'k',alpha = 0.5)\n",
        "ax.plot(range(timesteps),np.mean(sdataarray,axis=1),'b',label = 'susceptible')\n",
        "ax.plot(range(timesteps),np.mean(idataarray,axis=1),'r',label = 'infected')\n",
        "ax.plot(range(timesteps),np.mean(rdataarray,axis=1),'g',label = 'recovered')\n",
        "ax.plot(range(timesteps),np.mean(ddataarray,axis=1),'k',label = 'dead')\n",
        "plt.xlabel('Number of timesteps')\n",
        "plt.ylabel('Proportion of Population')\n",
        "plt.legend(bbox_to_anchor=(1.02,1), loc=\"upper left\")"
      ],
      "metadata": {
        "colab": {
          "base_uri": "https://localhost:8080/",
          "height": 296
        },
        "id": "kqddvwNyXSgt",
        "outputId": "a4442503-dda6-441a-abe0-83fe56a25176"
      },
      "execution_count": null,
      "outputs": [
        {
          "output_type": "execute_result",
          "data": {
            "text/plain": [
              "<matplotlib.legend.Legend at 0x7f3ef035f610>"
            ]
          },
          "metadata": {},
          "execution_count": 156
        },
        {
          "output_type": "display_data",
          "data": {
            "text/plain": [
              "<Figure size 432x288 with 1 Axes>"
            ],
            "image/png": "[encoded data removed]"
          },
          "metadata": {
            "needs_background": "light"
          }
        }
      ]
    },
    {
      "cell_type": "code",
      "source": [
        "#Storing statistics for different scenarios - only run once for each initialization\n",
        "maxinfected = []\n",
        "totaldeaths = []\n",
        "peaktime = []\n"
      ],
      "metadata": {
        "id": "8mYIZf7p_8OR"
      },
      "execution_count": null,
      "outputs": []
    },
    {
      "cell_type": "code",
      "source": [
        "#Store these model outcomes \n",
        "maxinfected.append(np.max(np.mean(idataarray,axis=1))) #Maximum infection proportion\n",
        "totaldeaths.append(np.mean(ddataarray,axis=1)[timesteps-1]) #Total death proportion\n",
        "peaktime.append(np.argmax(np.mean(idataarray,axis=1))) #Time it takes to reach the maximum infection peak\n",
        "print(maxinfected)\n",
        "print(totaldeaths)\n",
        "print(peaktime)"
      ],
      "metadata": {
        "colab": {
          "base_uri": "https://localhost:8080/"
        },
        "id": "1lAlaFsFdJPu",
        "outputId": "54cf2c64-f433-4247-f5ed-20aa612a73ca"
      },
      "execution_count": null,
      "outputs": [
        {
          "output_type": "stream",
          "name": "stdout",
          "text": [
            "[0.6382666666666668, 0.0362, 0.14, 0.2464, 0.035466666666666674]\n",
            "[0.038733333333333335, 0.0015333333333333334, 0.021400000000000006, 0.014400000000000001, 0.0032000000000000006]\n",
            "[25, 8, 13, 20, 16]\n"
          ]
        }
      ]
    },
    {
      "cell_type": "code",
      "source": [
        "#Plot the comparison for maximum infected\n",
        "scenario = [1, 2, 3, 4, 5]\n",
        "x_pos = [i for i, _ in enumerate(scenario)]\n",
        "\n",
        "plt.bar(x_pos, maxinfected)\n",
        "plt.xlabel(\"Scenario\")\n",
        "plt.ylabel(\"Infected proportion of population\")\n",
        "plt.xticks(x_pos, scenario)\n",
        "plt.show()"
      ],
      "metadata": {
        "colab": {
          "base_uri": "https://localhost:8080/",
          "height": 279
        },
        "id": "g62GmRjN4MLY",
        "outputId": "fba20b13-bb2a-4907-a75c-d49867eaf12a"
      },
      "execution_count": null,
      "outputs": [
        {
          "output_type": "display_data",
          "data": {
            "text/plain": [
              "<Figure size 432x288 with 1 Axes>"
            ],
            "image/png": "[encoded data removed]"
          },
          "metadata": {
            "needs_background": "light"
          }
        }
      ]
    },
    {
      "cell_type": "code",
      "source": [
        "#Plot the comparison for total death toll \n",
        "plt.bar(x_pos, totaldeaths)\n",
        "plt.xlabel(\"Scenario\")\n",
        "plt.ylabel(\"Dead proportion of population\")\n",
        "plt.xticks(x_pos, scenario)\n",
        "plt.show()"
      ],
      "metadata": {
        "colab": {
          "base_uri": "https://localhost:8080/",
          "height": 280
        },
        "id": "iW7lqJDg49jV",
        "outputId": "4faf24be-b448-4aa4-ca67-e403933b5547"
      },
      "execution_count": null,
      "outputs": [
        {
          "output_type": "display_data",
          "data": {
            "text/plain": [
              "<Figure size 432x288 with 1 Axes>"
            ],
            "image/png": "[encoded data removed]"
          },
          "metadata": {
            "needs_background": "light"
          }
        }
      ]
    },
    {
      "cell_type": "code",
      "source": [
        "#Plot comparison for peak time \n",
        "plt.bar(x_pos, peaktime)\n",
        "plt.xlabel(\"Scenario\")\n",
        "plt.ylabel(\"Number of timesteps\")\n",
        "plt.xticks(x_pos, scenario)\n",
        "plt.show()"
      ],
      "metadata": {
        "colab": {
          "base_uri": "https://localhost:8080/",
          "height": 279
        },
        "id": "xXKSXWCS5D61",
        "outputId": "ddf4cd7f-a382-4534-b37a-f7f30c2b7057"
      },
      "execution_count": null,
      "outputs": [
        {
          "output_type": "display_data",
          "data": {
            "text/plain": [
              "<Figure size 432x288 with 1 Axes>"
            ],
            "image/png": "[encoded data removed]"
          },
          "metadata": {
            "needs_background": "light"
          }
        }
      ]
    }
  ]
}
